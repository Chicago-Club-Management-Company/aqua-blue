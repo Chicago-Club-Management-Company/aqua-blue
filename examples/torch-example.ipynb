{
 "cells": [
  {
   "cell_type": "markdown",
   "id": "e1b83cc7",
   "metadata": {},
   "source": [
    "# Custom Model with PyTorch\n",
    "\n",
    "Aqua-blue provides functionality to create custom systems using other libraries such as `torch`. In this example, we will create an aqua-blue model with `torch`, and use a MLP (Multilayer Perceptron) to train the readout layer. "
   ]
  },
  {
   "cell_type": "markdown",
   "id": "e58adeeb",
   "metadata": {},
   "source": [
    "## Example problem\n",
    "\n",
    "We will be predicting the Lotka-Volterra system for this example. It is defined below -"
   ]
  },
  {
   "cell_type": "code",
   "execution_count": 305,
   "id": "82116b7c",
   "metadata": {},
   "outputs": [
    {
     "data": {
      "image/png": "[encoded data removed]",
      "text/plain": [
       "<Figure size 640x480 with 1 Axes>"
      ]
     },
     "metadata": {},
     "output_type": "display_data"
    }
   ],
   "source": [
    "import torch\n",
    "import numpy as np\n",
    "from scipy.integrate import solve_ivp\n",
    "import matplotlib.pyplot as plt\n",
    "\n",
    "def lotka_volterra(t, z, alpha, beta, delta, gamma):\n",
    "    x, y = z\n",
    "    dxdt = alpha * x - beta * x * y\n",
    "    dydt = delta * x * y - gamma * y\n",
    "    return [dxdt, dydt]\n",
    "\n",
    "\n",
    "def solve_lv(t_start, t_end, no, alpha=0.1, beta=0.02, gamma=0.3, delta=0.01, x0=20, y0=9):\n",
    "    t_eval = np.linspace(t_start, t_end, no)\n",
    "    solution = solve_ivp(lotka_volterra, [t_start, t_end], [x0, y0], t_eval=t_eval, args=(alpha, beta, delta, gamma))\n",
    "    x, y = torch.Tensor(solution.y)\n",
    "    lotka_volterra_array = torch.vstack((x, y)).T\n",
    "    return lotka_volterra_array\n",
    "    \n",
    "y = solve_lv(0, 10, 1000)\n",
    "t = np.linspace(0, 10, 1000)\n",
    "\n",
    "plt.plot(t, y)\n",
    "plt.title('Lotka-Volterra System')\n",
    "plt.show()"
   ]
  },
  {
   "cell_type": "markdown",
   "id": "02976f6b",
   "metadata": {},
   "source": [
    "## Aqua-blue Torch Model\n",
    "The underlying mechanics do not change much (except for the readout), so all we need to do is perform the necessary casts to `torch.Tensor`."
   ]
  },
  {
   "cell_type": "markdown",
   "id": "e9028c9b",
   "metadata": {},
   "source": [
    "### Reservoir"
   ]
  },
  {
   "cell_type": "code",
   "execution_count": 306,
   "id": "08130c8d",
   "metadata": {},
   "outputs": [],
   "source": [
    "from dataclasses import dataclass\n",
    "import aqua_blue\n",
    "\n",
    "@dataclass\n",
    "class DynamicalReservoirWithTorch(aqua_blue.reservoirs.DynamicalReservoir):\n",
    "    \n",
    "    def __post_init__(self):\n",
    "        \n",
    "        super().__post_init__()\n",
    "        \n",
    "        self.w_in = torch.tensor(self.w_in)\n",
    "        self.w_res = torch.tensor(self.w_res)\n",
    "        self.res_state = torch.tensor(self.res_state)\n",
    "    \n",
    "    def update_reservoir(self, input_state: torch.Tensor) -> torch.Tensor:\n",
    "        \n",
    "        self.res_state = (1.0 - self.leaking_rate) * self.res_state + self.leaking_rate * self.activation_function(\n",
    "            self.w_in @ input_state + self.w_res @ self.res_state\n",
    "        )\n",
    "        return self.res_state"
   ]
  },
  {
   "cell_type": "markdown",
   "id": "370f0c5b",
   "metadata": {},
   "source": [
    "### TimeSeries"
   ]
  },
  {
   "cell_type": "code",
   "execution_count": 307,
   "id": "d2af0a87",
   "metadata": {},
   "outputs": [],
   "source": [
    "@dataclass\n",
    "class TimeSeriesWithTorch(aqua_blue.time_series.TimeSeries):\n",
    "    \n",
    "    def __post_init__(self):\n",
    "        super().__post_init__()\n",
    "        self.dependent_variable = torch.tensor(self.dependent_variable)\n",
    "        self.times = torch.tensor(self.times.astype(float))"
   ]
  },
  {
   "cell_type": "markdown",
   "id": "ff5f5a11",
   "metadata": {},
   "source": [
    "### Model"
   ]
  },
  {
   "cell_type": "code",
   "execution_count": 308,
   "id": "c53e9506",
   "metadata": {},
   "outputs": [],
   "source": [
    "@dataclass\n",
    "class ModelWithTorch(aqua_blue.models.Model):\n",
    "    \n",
    "    def train(\n",
    "        self,\n",
    "        input_time_series: TimeSeriesWithTorch,\n",
    "        warmup: int = 0\n",
    "    ):\n",
    "        \n",
    "        time_series_array = input_time_series.dependent_variable\n",
    "        reservoir_states = torch.zeros((time_series_array.shape[0]-1, self.reservoir.reservoir_dimensionality))\n",
    "\n",
    "        for i in range(reservoir_states.shape[0]):\n",
    "            reservoir_states[i] = self.reservoir.update_reservoir(time_series_array[i])\n",
    "\n",
    "        dependent_variables = time_series_array[1:]\n",
    "        if warmup > 0:\n",
    "            reservoir_states = reservoir_states[warmup:]\n",
    "            dependent_variables = dependent_variables[warmup:]\n",
    "        \n",
    "        self.readout.train(reservoir_states, dependent_variables)\n",
    "        self.timestep = input_time_series.timestep\n",
    "        self.final_time = input_time_series.times[-1]\n",
    "        self.tz = input_time_series.times.tz\n",
    "        self.times_dtype = input_time_series.times.dtype\n",
    "        self.initial_guess = time_series_array[-1, :]\n",
    "\n",
    "    def predict(self, horizon: int) -> TimeSeriesWithTorch:\n",
    "        \n",
    "        predictions = torch.zeros((horizon, self.reservoir.input_dimensionality), dtype=float)\n",
    "        \n",
    "        for i in range(horizon):\n",
    "            if i == 0:\n",
    "                predictions[i, :] = self.readout.reservoir_to_output(\n",
    "                    self.reservoir.res_state\n",
    "                )\n",
    "                continue\n",
    "            predictions[i, :] = self.readout.reservoir_to_output(\n",
    "                self.reservoir.update_reservoir(predictions[i - 1, :])\n",
    "            )\n",
    "        \n",
    "        if isinstance(self.final_time, float):\n",
    "            assert isinstance(self.timestep, float)\n",
    "\n",
    "        times_ = torch.arange(\n",
    "            self.final_time + self.timestep,\n",
    "            self.final_time + (horizon + 1) * self.timestep,\n",
    "            self.timestep,\n",
    "            dtype=float\n",
    "        )\n",
    "\n",
    "        return TimeSeriesWithTorch(\n",
    "            dependent_variable=predictions,\n",
    "            times=times_\n",
    "        )"
   ]
  },
  {
   "cell_type": "markdown",
   "id": "e389b7cf",
   "metadata": {},
   "source": [
    "### MLP Readout"
   ]
  },
  {
   "cell_type": "code",
   "execution_count": null,
   "id": "b0780624",
   "metadata": {},
   "outputs": [],
   "source": [
    "import torch.nn as nn \n",
    "import torch.optim as optim \n",
    "\n",
    "    \n",
    "@dataclass\n",
    "class MLPReadoutWithTorch(aqua_blue.readouts.LinearReadout):\n",
    "    \n",
    "    def train(self, reservoir_states: torch.Tensor, dependent_variables: torch.Tensor):\n",
    "\n",
    "        reservoir_states = torch.Tensor(reservoir_states)\n",
    "        dependent_variables = torch.Tensor(dependent_variables)\n",
    "        \n",
    "        model = nn.Linear(in_features=dependent_variables.shape[1], out_features=reservoir_states.shape[1], bias=False)\n",
    "\n",
    "        loss_fn = nn.MSELoss()\n",
    "        loss = loss_fn(model(dependent_variables), reservoir_states)\n",
    "        \n",
    "        optimizer = optim.Adam(model.parameters(), lr=1e-2)\n",
    "\n",
    "        num_epochs = 1000\n",
    "        for epoch in range(num_epochs):\n",
    "            optimizer.zero_grad()           \n",
    "            Y_pred = model(dependent_variables)             \n",
    "            loss = loss_fn(Y_pred, reservoir_states)      \n",
    "            loss.backward()                 \n",
    "            optimizer.step()             \n",
    "        \n",
    "        W_learned = model.weight.detach().T\n",
    "        \n",
    "        self.coefficients = W_learned\n",
    "    \n",
    "    def reservoir_to_output(self, reservoir_state):\n",
    "        reservoir_state = torch.Tensor(reservoir_state).float() \n",
    "        self.coefficients = self.coefficients.float()\n",
    "        return self.coefficients @ reservoir_state"
   ]
  },
  {
   "cell_type": "markdown",
   "id": "3de67717",
   "metadata": {},
   "source": [
    "## Predictions\n",
    "\n",
    "Let's use our new model to make predictions!"
   ]
  },
  {
   "cell_type": "code",
   "execution_count": 310,
   "id": "c71dacc3",
   "metadata": {},
   "outputs": [
    {
     "name": "stderr",
     "output_type": "stream",
     "text": [
      "C:\\Users\\hkbel\\AppData\\Local\\Temp\\ipykernel_4192\\957041266.py:18: DeprecationWarning: __array_wrap__ must accept context and return_scalar arguments (positionally) in the future. (Deprecated NumPy 2.0)\n",
      "  self.w_in @ input_state + self.w_res @ self.res_state\n"
     ]
    },
    {
     "name": "stdout",
     "output_type": "stream",
     "text": [
      "torch.Size([2, 100])\n"
     ]
    },
    {
     "name": "stderr",
     "output_type": "stream",
     "text": [
      "c:\\Users\\hkbel\\Desktop\\ccmc\\aqua-blue\\.venv\\Lib\\site-packages\\torch\\utils\\_device.py:104: UserWarning: To copy construct from a tensor, it is recommended to use sourceTensor.detach().clone() or sourceTensor.detach().clone().requires_grad_(True), rather than torch.tensor(sourceTensor).\n",
      "  return func(*args, **kwargs)\n"
     ]
    },
    {
     "data": {
      "image/png": "[encoded data removed]",
      "text/plain": [
       "<Figure size 640x480 with 1 Axes>"
      ]
     },
     "metadata": {},
     "output_type": "display_data"
    }
   ],
   "source": [
    "import numpy as np\n",
    "\n",
    "if torch.cuda.is_available():\n",
    "    torch.set_default_device(\"cuda\")\n",
    "else:\n",
    "    torch.set_default_device(\"cpu\")\n",
    "\n",
    "y = solve_lv(0, 10, 1000)\n",
    "t = np.linspace(0, 10, 1000)\n",
    "\n",
    "time_series = TimeSeriesWithTorch(dependent_variable=y, times=t)\n",
    "\n",
    "normalizer = aqua_blue.utilities.Normalizer()\n",
    "time_series = normalizer.normalize(time_series)\n",
    "\n",
    "model = ModelWithTorch(\n",
    "    reservoir=DynamicalReservoirWithTorch(\n",
    "        reservoir_dimensionality=100,\n",
    "        input_dimensionality=2,\n",
    "        activation_function=torch.tanh\n",
    "    ),\n",
    "    readout=MLPReadoutWithTorch()\n",
    ")\n",
    "model.train(time_series)\n",
    "model.readout.coefficients = torch.tensor(model.readout.coefficients)\n",
    "\n",
    "prediction = model.predict(horizon=1_000)\n",
    "prediction = normalizer.denormalize(prediction)\n",
    "\n",
    "actual_future = solve_lv(prediction.times[0], prediction.times[-1], 1_000)\n",
    "\n",
    "plt.plot(prediction.times, actual_future)\n",
    "plt.xlabel('t')\n",
    "plt.plot(prediction.times, prediction.dependent_variable)\n",
    "plt.legend(['actual x', 'actual y', 'predicted x', 'predicted y'], shadow=True)\n",
    "plt.title('Lotka-Volterra System')\n",
    "plt.show()"
   ]
  }
 ],
 "metadata": {
  "kernelspec": {
   "display_name": ".venv",
   "language": "python",
   "name": "python3"
  },
  "language_info": {
   "codemirror_mode": {
    "name": "ipython",
    "version": 3
   },
   "file_extension": ".py",
   "mimetype": "text/x-python",
   "name": "python",
   "nbconvert_exporter": "python",
   "pygments_lexer": "ipython3",
   "version": "3.11.9"
  }
 },
 "nbformat": 4,
 "nbformat_minor": 5
}

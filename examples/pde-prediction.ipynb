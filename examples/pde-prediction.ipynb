{
 "cells": [
  {
   "cell_type": "markdown",
   "id": "f89101cb",
   "metadata": {},
   "source": [
    "# Predicting Quantum State Propagation Through Time\n",
    "\n",
    "In this example, we will predict the time evolution of quantum states given a particular initial wavefunction $\\psi(\\vec x, 0)$ and the governing Hamiltonian $\\hat H$. We will do so by using an ESN to predict the solutions of the time-dependent Schrodinger Equation $$i\\hbar \\frac{\\partial }{\\partial t} \\psi(\\vec x, t) = \\hat H\\psi (\\vec x, t)$$ which governs the evolution of the wavefunction of a non-relativistic quantum system."
   ]
  },
  {
   "cell_type": "markdown",
   "id": "ffaaf88e",
   "metadata": {},
   "source": [
    "# Example PDE"
   ]
  },
  {
   "cell_type": "markdown",
   "id": "4c2cb815",
   "metadata": {},
   "source": [
    "## Definition\n",
    "We will define our Hamiltonian $\\hat H$ as follows $$\\hat H = \\hat T + \\hat V = -\\frac12 \\nabla^2 + V(\\vec x)$$ i.e. a time-independent Hamiltonian in 2D.\n",
    "We will approximate the time evolution operator over a small interval of time as $$\\psi(t + \\delta t) \\approx e^{-i\\hat H \\delta t}\\psi(t) \\approx e^{-\\hat V\\delta t /2}e^{-i\\hat T \\delta t}e^{-i\\hat V \\delta t/2}\\psi(t)$$ Our starting wavefunction $\\psi(\\vec x, 0)$ will be a 2D Gaussian wave packet ($\\sigma = 1$) with some momentum in the x-direction.\n",
    "$$\\psi(\\vec x, 0) = e^{-\\frac{|{\\vec x}|}{2\\sigma^2}}e^{ik_0x}$$"
   ]
  },
  {
   "cell_type": "markdown",
   "id": "0100a7a8",
   "metadata": {},
   "source": [
    "## Split Operator Fourier Method\n",
    "We'll use the split operator method to solve the PDE. This will involve using position space for the potential energy component, and momentum space (with FFTs) for the kinetic component."
   ]
  },
  {
   "cell_type": "code",
   "execution_count": 2,
   "id": "337a4057",
   "metadata": {},
   "outputs": [],
   "source": [
    "import numpy as np\n",
    "\n",
    "def solve_tdse_2d(t=100, sigma=1.0, k0=1.0, omega=1.0, snapshot_every=1, N=32):\n",
    "    # Grid Definitions\n",
    "    L = 10.0\n",
    "    dx = L / N\n",
    "    x = np.linspace(-L/2, L/2, N, endpoint=False)\n",
    "    X, Y = np.meshgrid(x, x, indexing='ij')\n",
    "\n",
    "    kx = np.fft.fftfreq(N, d=dx) * 2 * np.pi\n",
    "    KX, KY = np.meshgrid(kx, kx, indexing='ij')\n",
    "    K2 = KX**2 + KY**2\n",
    "\n",
    "    psi = np.exp(-(X**2 + Y**2) / (2 * sigma**2)) * np.exp(1j * k0 * X)\n",
    "    psi /= np.sqrt(np.sum(np.abs(psi)**2) * dx**2)\n",
    "\n",
    "    V = 0.5 * omega**2 * (X**2 + Y**2)\n",
    "\n",
    "    dt = 0.01\n",
    "    n_steps = t\n",
    "    V_half = np.exp(-0.5j * V * dt)\n",
    "    T_full = np.exp(-1j * K2 * dt)\n",
    "\n",
    "    n_snapshots = t // snapshot_every\n",
    "    wavefunctions = np.zeros((n_snapshots, N, N), dtype=np.complex64)\n",
    "\n",
    "    for step in range(n_steps):\n",
    "        psi = V_half * psi\n",
    "        psi_k = np.fft.fft2(psi)\n",
    "        psi_k *= T_full\n",
    "        psi = np.fft.ifft2(psi_k)\n",
    "        psi = V_half * psi\n",
    "\n",
    "        psi /= np.sqrt(np.sum(np.abs(psi)**2) * dx**2)\n",
    "\n",
    "        if step % snapshot_every == 0:\n",
    "            wavefunctions[step // snapshot_every] = psi\n",
    "\n",
    "    return wavefunctions\n",
    "\n",
    "T = 2500 \n",
    "N = 32 \n",
    "HORIZON=100\n",
    "\n",
    "# Run simulation\n",
    "psis = solve_tdse_2d(t=T, N=N)\n",
    "np.savez_compressed('wavefunctions.npz', psis=psis)"
   ]
  },
  {
   "cell_type": "code",
   "execution_count": 3,
   "id": "4f37c509",
   "metadata": {},
   "outputs": [
    {
     "data": {
      "image/png": "[encoded data removed]",
      "text/plain": [
       "<Figure size 640x480 with 2 Axes>"
      ]
     },
     "metadata": {},
     "output_type": "display_data"
    }
   ],
   "source": [
    "%matplotlib inline\n",
    "import matplotlib.pyplot as plt\n",
    "import matplotlib.animation as animation\n",
    "from IPython.display import HTML\n",
    "import matplotlib as mpl\n",
    "mpl.rcParams['animation.embed_limit'] = 100  # For inline playback in notebooks\n",
    "\n",
    "psis = np.load('wavefunctions.npz')['psis']\n",
    "\n",
    "# Set up plot\n",
    "fig, ax = plt.subplots()\n",
    "initial_density = np.abs(psis[0])**2\n",
    "im = ax.imshow(initial_density, cmap='inferno', origin='lower', vmin=0, vmax=np.max(initial_density))\n",
    "fig.colorbar(im)\n",
    "ax.set_title(\"Time step 0\")\n",
    "\n",
    "def update(frame):\n",
    "    density = np.abs(psis[frame])**2\n",
    "    im.set_data(density)\n",
    "    ax.set_title(f\"Time step {frame}\")\n",
    "    return [im]\n",
    "\n",
    "\n",
    "ani = animation.FuncAnimation(\n",
    "    fig, update, frames=T, interval=50, repeat=False\n",
    ")\n",
    "\n",
    "# Save or display animation\n",
    "ani.save(\"quantum_evolution.mp4\", fps=30, dpi=150)\n"
   ]
  },
  {
   "cell_type": "markdown",
   "id": "849b2089",
   "metadata": {},
   "source": [
    "Let's set up some hyperparameter optimization!"
   ]
  },
  {
   "cell_type": "code",
   "execution_count": 4,
   "id": "1f34256f",
   "metadata": {},
   "outputs": [
    {
     "name": "stdout",
     "output_type": "stream",
     "text": [
      "100%|██████████| 10000/10000 [36:17<00:00,  4.59trial/s, best loss: 0.008488958016680096] \n"
     ]
    }
   ],
   "source": [
    "import numpy as np \n",
    "\n",
    "from aqua_blue_hyperopt.hyper import ModelParams, Optimizer, Algo, default_loss\n",
    "\n",
    "import numpy as np \n",
    "\n",
    "from aqua_blue.time_series import TimeSeries\n",
    "from aqua_blue.models import Model\n",
    "from aqua_blue.reservoirs import DynamicalReservoir\n",
    "from aqua_blue.readouts import LinearReadout\n",
    "from aqua_blue.utilities import Normalizer\n",
    "\n",
    "wavefunctions = np.load('wavefunctions.npz')['psis']\n",
    "wavefunctions = wavefunctions.reshape(T, -1)\n",
    "t = np.arange(T)\n",
    "\n",
    "TEST_DATA = wavefunctions[T-HORIZON:]\n",
    "TRAIN_DATA = wavefunctions[:T-HORIZON]\n",
    "\n",
    "# Get probability amplitudes\n",
    "TEST_DATA = np.abs(TEST_DATA)**2 \n",
    "TRAIN_DATA = np.abs(TRAIN_DATA)**2\n",
    "\n",
    "TEST_T = t[T-HORIZON:]\n",
    "TRAIN_T = t[:T-HORIZON]\n",
    "\n",
    "time_series = TimeSeries(dependent_variable=TRAIN_DATA, times=TRAIN_T)\n",
    "\n",
    "mp = ModelParams(\n",
    "    time_series=time_series, \n",
    "    input_dimensionality=wavefunctions.shape[1], \n",
    "    reservoir_dimensionality=100,\n",
    "    horizon=HORIZON,\n",
    "    actual_future=TEST_DATA,\n",
    "    readout=LinearReadout\n",
    ")\n",
    "\n",
    "fn = default_loss(mp)\n",
    "\n",
    "optimizer = Optimizer(10_000, fn, algo=Algo.TREE_PARZEN_ESTIMATOR)\n",
    "\n",
    "best = optimizer.optimize()"
   ]
  },
  {
   "cell_type": "code",
   "execution_count": 5,
   "id": "92b13459",
   "metadata": {},
   "outputs": [],
   "source": [
    "model = Model(\n",
    "    reservoir=DynamicalReservoir(\n",
    "        input_dimensionality=wavefunctions.shape[1],\n",
    "        reservoir_dimensionality=100,\n",
    "        spectral_radius = best['spectral_radius'],\n",
    "        sparsity=best['sparsity'],\n",
    "        leaking_rate=best['leaking_rate'],\n",
    "    ),\n",
    "    readout = LinearReadout(rcond=best['rcond'])\n",
    ")\n",
    "\n",
    "normalizer = Normalizer()\n",
    "normalized_series = normalizer.normalize(time_series)\n",
    "model.train(normalized_series)\n",
    "prediction = model.predict(HORIZON)\n",
    "denormalized_prediction = normalizer.denormalize(prediction)"
   ]
  },
  {
   "cell_type": "code",
   "execution_count": 6,
   "id": "0c42ae1b",
   "metadata": {},
   "outputs": [
    {
     "data": {
      "image/png": "[encoded data removed]",
      "text/plain": [
       "<Figure size 1000x500 with 2 Axes>"
      ]
     },
     "metadata": {},
     "output_type": "display_data"
    }
   ],
   "source": [
    "import matplotlib.pyplot as plt\n",
    "from matplotlib import animation\n",
    "\n",
    "fig, axes = plt.subplots(1, 2, figsize=(10, 5))\n",
    "ax1, ax2 = axes\n",
    "\n",
    "TEST_DATA = TEST_DATA.reshape(HORIZON, N, N)\n",
    "denormalized_prediction.dependent_variable = denormalized_prediction.dependent_variable.reshape(HORIZON, N, N)\n",
    "\n",
    "actual_density_i = TEST_DATA[0]\n",
    "predicted_density_i = denormalized_prediction.dependent_variable[0]\n",
    "\n",
    "im1 = ax1.imshow(actual_density_i, cmap='inferno', origin='lower', vmin=0, vmax=np.max(actual_density_i))\n",
    "im2 = ax2.imshow(predicted_density_i, cmap='inferno', origin='lower', vmin=0, vmax=np.max(predicted_density_i))\n",
    "\n",
    "def update(frame):\n",
    "    actual_density = TEST_DATA[frame]\n",
    "    predicted_density = denormalized_prediction.dependent_variable[frame]\n",
    "    im1.set_data(actual_density)\n",
    "    im2.set_data(predicted_density)\n",
    "    ax1.set_title(f'Actual future at frame {frame}')\n",
    "    ax2.set_title(f'Prediction at frame {frame}')\n",
    "    return im1, im2\n",
    "\n",
    "ani = animation.FuncAnimation(fig, update, frames=HORIZON, interval=50, blit=True)\n",
    "ani.save('predicted_evolution.mp4', fps=30, dpi=150)"
   ]
  }
 ],
 "metadata": {
  "kernelspec": {
   "display_name": ".venv",
   "language": "python",
   "name": "python3"
  },
  "language_info": {
   "codemirror_mode": {
    "name": "ipython",
    "version": 3
   },
   "file_extension": ".py",
   "mimetype": "text/x-python",
   "name": "python",
   "nbconvert_exporter": "python",
   "pygments_lexer": "ipython3",
   "version": "3.11.9"
  }
 },
 "nbformat": 4,
 "nbformat_minor": 5
}

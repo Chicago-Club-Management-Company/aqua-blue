{
 "cells": [
  {
   "cell_type": "markdown",
   "metadata": {
    "collapsed": true,
    "pycharm": {
     "name": "#%% md\n"
    }
   },
   "source": [
    "Double elastic pendulum! Elastic-ness serves as a soft-constraint, so no need for hard-constraint integration"
   ]
  },
  {
   "cell_type": "markdown",
   "source": [
    "Imports"
   ],
   "metadata": {
    "collapsed": false,
    "pycharm": {
     "name": "#%% md\n"
    }
   }
  },
  {
   "cell_type": "code",
   "execution_count": null,
   "outputs": [],
   "source": [
    "from dataclasses import dataclass\n",
    "from typing import Tuple\n",
    "\n",
    "import numpy as np\n",
    "import matplotlib.pyplot as plt"
   ],
   "metadata": {
    "collapsed": false,
    "pycharm": {
     "name": "#%%\n"
    }
   }
  },
  {
   "cell_type": "markdown",
   "source": [
    "Define simulation class that performs integration"
   ],
   "metadata": {
    "collapsed": false,
    "pycharm": {
     "name": "#%% md\n"
    }
   }
  },
  {
   "cell_type": "code",
   "execution_count": null,
   "outputs": [],
   "source": [
    "def normalize(x: np.typing.NDArray) -> np.typing.NDArray:\n",
    "\n",
    "    return x / np.linalg.norm(x)\n",
    "\n",
    "\n",
    "@dataclass\n",
    "class DoublePendulum:\n",
    "\n",
    "    acceleration_from_gravity: float\n",
    "    spring_constant: float\n",
    "    mass: float\n",
    "    length: float\n",
    "    anchor: np.typing.NDArray\n",
    "    positions: Tuple[np.typing.NDArray, np.typing.NDArray]\n",
    "    velocities: Tuple[np.typing.NDArray, np.typing.NDArray]\n",
    "\n",
    "    def __post_init__(self):\n",
    "\n",
    "        if not isinstance(self.anchor, np.ndarray):\n",
    "            self.anchor = np.array(self.anchor)\n",
    "\n",
    "        if not isinstance(self.positions, np.ndarray):\n",
    "            self.positions = np.array(self.positions)\n",
    "\n",
    "        if not isinstance(self.velocities, np.ndarray):\n",
    "            self.velocities = np.array(self.velocities)\n",
    "\n",
    "    @property\n",
    "    def gravity(self) -> float:\n",
    "\n",
    "        return np.array([0, self.mass * self.acceleration_from_gravity])\n",
    "\n",
    "    @property\n",
    "    def potential_energy(self) -> float:\n",
    "\n",
    "        return self.acceleration_from_gravity * self.mass * (self.positions[0][1] + self.positions[1][1]) + \\\n",
    "               0.5 * self.spring_constant * (\n",
    "                       (np.linalg.norm(self.positions[0] - self.anchor) - self.length) ** 2 +\n",
    "                       (np.linalg.norm(self.positions[1] - self.positions[0]) - self.length) ** 2\n",
    "               )\n",
    "\n",
    "    @property\n",
    "    def kinetic_energy(self) -> float:\n",
    "\n",
    "        return 0.5 * self.mass * (np.linalg.norm(self.velocities[0]) ** 2 + np.linalg.norm(self.velocities[1]) ** 2)\n",
    "\n",
    "    def step(self, timestep: float):\n",
    "\n",
    "        r1, r2 = self.positions\n",
    "        v1, v2 = self.velocities\n",
    "\n",
    "        f1 = self.spring_constant * (np.linalg.norm(self.anchor - r1) - self.length) * normalize(self.anchor - r1) + \\\n",
    "            self.spring_constant * (np.linalg.norm(r2 - r1) - self.length) * normalize(r2 - r1) - self.gravity\n",
    "        f2 = self.spring_constant * (np.linalg.norm(r1 - r2) - self.length) * normalize(r1 - r2) - self.gravity\n",
    "\n",
    "        # Velocity Verlet: half-step velocity\n",
    "        v1_half = v1 + 0.5 * timestep * f1\n",
    "        v2_half = v2 + 0.5 * timestep * f2\n",
    "\n",
    "        # Position update\n",
    "        r1 += timestep * v1_half\n",
    "        r2 += timestep * v2_half\n",
    "\n",
    "        # New forces\n",
    "        f1_new = self.spring_constant * (np.linalg.norm(self.anchor - r1) - self.length) * normalize(self.anchor - r1) + \\\n",
    "                self.spring_constant * (np.linalg.norm(r2 - r1) - self.length) * normalize(r2 - r1) - self.gravity\n",
    "        f2_new = self.spring_constant * (np.linalg.norm(r1 - r2) - self.length) * normalize(r1 - r2) - self.gravity\n",
    "\n",
    "        # Final velocity update\n",
    "        v1 = v1_half + 0.5 * timestep * f1_new / self.mass\n",
    "        v2 = v2_half + 0.5 * timestep * f2_new / self.mass\n",
    "\n",
    "        self.positions = (r1, r2)\n",
    "        self.velocities = (v1, v2)"
   ],
   "metadata": {
    "collapsed": false,
    "pycharm": {
     "name": "#%%\n"
    }
   }
  },
  {
   "cell_type": "markdown",
   "source": [
    "Example run"
   ],
   "metadata": {
    "collapsed": false,
    "pycharm": {
     "name": "#%% md\n"
    }
   }
  },
  {
   "cell_type": "code",
   "execution_count": null,
   "outputs": [],
   "source": [
    "double_pendulum = DoublePendulum(\n",
    "    acceleration_from_gravity=9.81,\n",
    "    spring_constant=50.0,\n",
    "    length=1.0,\n",
    "    mass=1.0,\n",
    "    anchor=(0.0, 0.0),\n",
    "    positions=[\n",
    "        [1.0, 0.0],\n",
    "        [2.0, 0.0],\n",
    "    ],\n",
    "    velocities=[\n",
    "        [0.0, 0.0],\n",
    "        [0.0, 0.0]\n",
    "    ]\n",
    ")\n",
    "\n",
    "\n",
    "r1_history = []\n",
    "r2_history = []\n",
    "KE_history = []\n",
    "PE_history = []\n",
    "\n",
    "steps = 10000\n",
    "timestep = 1.0e-3\n",
    "for _ in range(steps):\n",
    "    r1_history.append(double_pendulum.positions[0])\n",
    "    r2_history.append(double_pendulum.positions[1])\n",
    "    KE_history.append(double_pendulum.kinetic_energy)\n",
    "    PE_history.append(double_pendulum.potential_energy)\n",
    "\n",
    "    double_pendulum.step(timestep=timestep)\n",
    "\n",
    "# Plot energy over time\n",
    "KE_history = np.array(KE_history)\n",
    "PE_history = np.array(PE_history)\n",
    "t = np.linspace(0, timestep * steps, steps)\n",
    "plt.plot(t, KE_history, label=\"kinetic\")\n",
    "plt.plot(t, PE_history, label=\"potential\")\n",
    "plt.plot(t, KE_history + PE_history, label=\"total\")\n",
    "plt.legend()\n",
    "plt.xlabel('Time')\n",
    "plt.ylabel('Energy')\n",
    "plt.title('Energy Conservation in Double Elastic Pendulum')\n",
    "plt.grid()\n",
    "plt.show()"
   ],
   "metadata": {
    "collapsed": false,
    "pycharm": {
     "name": "#%%\n"
    }
   }
  },
  {
   "cell_type": "code",
   "execution_count": null,
   "outputs": [],
   "source": [],
   "metadata": {
    "collapsed": false,
    "pycharm": {
     "name": "#%%\n"
    }
   }
  }
 ],
 "metadata": {
  "kernelspec": {
   "display_name": "Python 3",
   "language": "python",
   "name": "python3"
  },
  "language_info": {
   "codemirror_mode": {
    "name": "ipython",
    "version": 2
   },
   "file_extension": ".py",
   "mimetype": "text/x-python",
   "name": "python",
   "nbconvert_exporter": "python",
   "pygments_lexer": "ipython2",
   "version": "2.7.6"
  }
 },
 "nbformat": 4,
 "nbformat_minor": 0
}